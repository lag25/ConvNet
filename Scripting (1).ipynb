{
 "cells": [
  {
   "cell_type": "code",
   "execution_count": 3,
   "id": "9e3b6a3d",
   "metadata": {},
   "outputs": [],
   "source": [
    "import numpy as np \n",
    "import os , shutil\n",
    "import pandas as pd \n",
    "import matplotlib.pyplot as plt \n",
    "from PIL import Image\n",
    "import cv2 \n",
    "from skimage import io , color"
   ]
  },
  {
   "cell_type": "code",
   "execution_count": 22,
   "id": "f2c3b878",
   "metadata": {},
   "outputs": [],
   "source": [
    "class recon:\n",
    "    k=0\n",
    "    def __init__(self,img_address):\n",
    "        self.img_address = img_address\n",
    "        self.counter = recon.k + 1 # Static Variable Counter\n",
    "        recon.k = self.counter\n",
    "    def read_resize_grayscale(self):\n",
    "        img = cv2.imread(self.img_address)\n",
    "        img = cv2.resize(img,(128,128))\n",
    "        img = color.rgb2gray(img)\n",
    "        arr = np.array(img)\n",
    "        im = Image.fromarray(np.uint8(arr*255))\n",
    "        adress = os.path.join(r\"C:\\Users\\91898\\Desktop\\Finger Counting\\Finger_Classes\\5\",'five'+str(self.counter)+'.png')\n",
    "        print(adress)\n",
    "        im.save(adress)\n",
    "        \n",
    "        \n",
    "        "
   ]
  },
  {
   "cell_type": "code",
   "execution_count": 23,
   "id": "c9cf46ce",
   "metadata": {},
   "outputs": [
    {
     "name": "stdout",
     "output_type": "stream",
     "text": [
      "C:\\Users\\91898\\Desktop\\Finger Counting\\Finger_Classes\\5\\five1.png\n",
      "C:\\Users\\91898\\Desktop\\Finger Counting\\Finger_Classes\\5\\five2.png\n",
      "C:\\Users\\91898\\Desktop\\Finger Counting\\Finger_Classes\\5\\five3.png\n",
      "C:\\Users\\91898\\Desktop\\Finger Counting\\Finger_Classes\\5\\five4.png\n",
      "C:\\Users\\91898\\Desktop\\Finger Counting\\Finger_Classes\\5\\five5.png\n",
      "C:\\Users\\91898\\Desktop\\Finger Counting\\Finger_Classes\\5\\five6.png\n",
      "C:\\Users\\91898\\Desktop\\Finger Counting\\Finger_Classes\\5\\five7.png\n",
      "C:\\Users\\91898\\Desktop\\Finger Counting\\Finger_Classes\\5\\five8.png\n",
      "C:\\Users\\91898\\Desktop\\Finger Counting\\Finger_Classes\\5\\five9.png\n",
      "C:\\Users\\91898\\Desktop\\Finger Counting\\Finger_Classes\\5\\five10.png\n",
      "C:\\Users\\91898\\Desktop\\Finger Counting\\Finger_Classes\\5\\five11.png\n"
     ]
    }
   ],
   "source": [
    "org_dir = r\"C:/Users/91898/Downloads/vipul favour/Hand Images/5\"\n",
    "for file in os.listdir(org_dir):\n",
    "    instance_2 = recon(os.path.join(org_dir,file))\n",
    "    instance_2.read_resize_grayscale()"
   ]
  },
  {
   "cell_type": "code",
   "execution_count": 130,
   "id": "0d5350b7",
   "metadata": {},
   "outputs": [
    {
     "data": {
      "text/plain": [
       "(128, 128, 3)"
      ]
     },
     "execution_count": 130,
     "metadata": {},
     "output_type": "execute_result"
    }
   ],
   "source": [
    "img_12.shape"
   ]
  },
  {
   "cell_type": "code",
   "execution_count": null,
   "id": "e1524dd0",
   "metadata": {
    "scrolled": true
   },
   "outputs": [],
   "source": [
    "for k in range(6):\n",
    "    ad = os.path.join((r\"C:\\Users\\91898\\Desktop\\Finger Counting\\Vipul_Dataset\") , str(k))\n",
    "    os.mkdir(ad)"
   ]
  },
  {
   "cell_type": "code",
   "execution_count": 23,
   "id": "00b0dd90",
   "metadata": {
    "scrolled": true
   },
   "outputs": [
    {
     "name": "stdout",
     "output_type": "stream",
     "text": [
      "C:\\Users\\91898\\Desktop\\Finger Counting\\Vipul_Dataset\\5\\five1.png\n",
      "C:\\Users\\91898\\Desktop\\Finger Counting\\Vipul_Dataset\\5\\five2.png\n",
      "C:\\Users\\91898\\Desktop\\Finger Counting\\Vipul_Dataset\\5\\five3.png\n",
      "C:\\Users\\91898\\Desktop\\Finger Counting\\Vipul_Dataset\\5\\five4.png\n",
      "C:\\Users\\91898\\Desktop\\Finger Counting\\Vipul_Dataset\\5\\five5.png\n",
      "C:\\Users\\91898\\Desktop\\Finger Counting\\Vipul_Dataset\\5\\five6.png\n"
     ]
    }
   ],
   "source": [
    "org_dir = os.path.join(r\"C:/Users/91898/Downloads/vipul favour/Hand Images/5\")\n",
    "for file in os.listdir(org_dir):\n",
    "    instance_2 = recon(os.path.join(org_dir,file))\n",
    "    instance_2.read_resize_grayscale()"
   ]
  }
 ],
 "metadata": {
  "kernelspec": {
   "display_name": "Python 3",
   "language": "python",
   "name": "python3"
  },
  "language_info": {
   "codemirror_mode": {
    "name": "ipython",
    "version": 3
   },
   "file_extension": ".py",
   "mimetype": "text/x-python",
   "name": "python",
   "nbconvert_exporter": "python",
   "pygments_lexer": "ipython3",
   "version": "3.8.8"
  }
 },
 "nbformat": 4,
 "nbformat_minor": 5
}
